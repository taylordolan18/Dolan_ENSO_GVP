{
 "cells": [
  {
   "cell_type": "markdown",
   "id": "1ce8c949-ba7b-4c8f-9640-30b407d17a0e",
   "metadata": {},
   "source": [
    "### data preprocessing (CESM BHIST TBOT)\n",
    "\n",
    "Notebook by Maria J. Molina (NCAR) and Taylor Dolan (UND/ASP)\n",
    "\n",
    "Notebook extracts the bottom temperature CESM2 model level (for data size reduction)."
   ]
  },
  {
   "cell_type": "code",
   "execution_count": 4,
   "id": "daad9d71-8e83-4ae1-b4bc-09cb8b2e1653",
   "metadata": {},
   "outputs": [],
   "source": [
    "import glob\n",
    "import xarray as xr"
   ]
  },
  {
   "cell_type": "code",
   "execution_count": 6,
   "id": "e05c3e47-c03e-4a39-af21-0606b9ab7f39",
   "metadata": {},
   "outputs": [],
   "source": [
    "file_list = sorted(glob.glob(\n",
    "    '/glade/campaign/cgd/cesm/CESM2-LE/atm/proc/tseries/hour_6/T/*BHIST*nc'))"
   ]
  },
  {
   "cell_type": "code",
   "execution_count": 17,
   "id": "25ef9ec1-53d1-479f-b869-afcb3d426a99",
   "metadata": {},
   "outputs": [],
   "source": [
    "for fi in file_list[123:]:\n",
    "    ds = xr.open_dataset(fi)\n",
    "    ds['T'].isel(lev=-1).to_netcdf(\n",
    "        f\"/glade/scratch/molina/data_for_taylor/{fi.split('T')[1]+fi.split('T')[2]+'TBOT.'+fi.split('.T.')[-1]}\")"
   ]
  },
  {
   "cell_type": "code",
   "execution_count": null,
   "id": "a0255927-6bc3-4e90-ac07-1750827d2fdd",
   "metadata": {},
   "outputs": [],
   "source": []
  }
 ],
 "metadata": {
  "kernelspec": {
   "display_name": "Python [conda env:miniconda3-myenv-tfgpu]",
   "language": "python",
   "name": "conda-env-miniconda3-myenv-tfgpu-py"
  },
  "language_info": {
   "codemirror_mode": {
    "name": "ipython",
    "version": 3
   },
   "file_extension": ".py",
   "mimetype": "text/x-python",
   "name": "python",
   "nbconvert_exporter": "python",
   "pygments_lexer": "ipython3",
   "version": "3.8.10"
  }
 },
 "nbformat": 4,
 "nbformat_minor": 5
}
