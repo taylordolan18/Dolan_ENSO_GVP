{
 "cells": [
  {
   "cell_type": "markdown",
   "id": "c0933e65-027e-4e52-8225-80ada19bc5e8",
   "metadata": {},
   "source": [
    "### data preprocessing (CESM files)\n",
    "\n",
    "Notebook by Maria J. Molina (NCAR) and Taylor Dolan (UND/ASP)\n",
    "\n",
    "Notebook resamples data from daily temporal resolution to monthly (previous project approach)."
   ]
  },
  {
   "cell_type": "code",
   "execution_count": 1,
   "id": "b5afda16-7281-4943-91d8-26fc4110ea1f",
   "metadata": {},
   "outputs": [],
   "source": [
    "import glob\n",
    "import xarray as xr"
   ]
  },
  {
   "cell_type": "code",
   "execution_count": 2,
   "id": "20a5e040-41a2-468c-ba7d-1e09e2c2a25d",
   "metadata": {},
   "outputs": [],
   "source": [
    "member_list = ['1011.001', '1031.002', '1051.003', '1071.004', '1091.005',\n",
    "               '1111.006', '1131.007', '1151.008', '1171.009', '1191.010']"
   ]
  },
  {
   "cell_type": "code",
   "execution_count": 3,
   "id": "1bcf05a7-1402-4640-b58b-f80bb7c1b938",
   "metadata": {},
   "outputs": [],
   "source": [
    "historical = 'b.e21.BHISTsmbb.f09_g17.LE2-'\n",
    "future     = 'b.e21.BSSP370smbb.f09_g17.LE2-'"
   ]
  },
  {
   "cell_type": "code",
   "execution_count": 4,
   "id": "d7e20e84-c289-4763-8907-dff4ec10c5d6",
   "metadata": {},
   "outputs": [],
   "source": [
    "for mem in member_list:\n",
    "\n",
    "    ds_hist = xr.open_mfdataset(sorted(glob.glob(\n",
    "        f'/glade/campaign/cgd/cesm/CESM2-LE/atm/proc/tseries/day_1/Z500/{historical}{mem}.*.nc')))['Z500']\n",
    "    \n",
    "    ds_futu = xr.open_mfdataset(sorted(glob.glob(\n",
    "        f'/glade/campaign/cgd/cesm/CESM2-LE/atm/proc/tseries/day_1/Z500/{future}{mem}.*.nc')))['Z500']\n",
    "\n",
    "    ds_hist = ds_hist.resample(time='MS').mean(skipna=True).isel(time=slice(0, -1))\n",
    "    ds_futu = ds_futu.resample(time='MS').mean(skipna=True)\n",
    "\n",
    "    xr.concat([ds_hist, ds_futu], dim='time').to_netcdf(\n",
    "        f'/glade/scratch/molina/b.e21.Z500.{mem}.nc')"
   ]
  },
  {
   "cell_type": "code",
   "execution_count": 5,
   "id": "98eeb9d3-13ed-4690-b84e-ee7057dbe44a",
   "metadata": {},
   "outputs": [],
   "source": [
    "for mem in member_list:\n",
    "\n",
    "    ds_hist = xr.open_mfdataset(sorted(glob.glob(\n",
    "        f'/glade/campaign/cgd/cesm/CESM2-LE/atm/proc/tseries/day_1/U500/{historical}{mem}.*.nc')))['U500']\n",
    "\n",
    "    ds_futu = xr.open_mfdataset(sorted(glob.glob(\n",
    "        f'/glade/campaign/cgd/cesm/CESM2-LE/atm/proc/tseries/day_1/U500/{future}{mem}.*.nc')))['U500']\n",
    "\n",
    "    ds_hist = ds_hist.resample(time='MS').mean(skipna=True).isel(time=slice(0, -1))\n",
    "    ds_futu = ds_futu.resample(time='MS').mean(skipna=True)\n",
    "\n",
    "    xr.concat([ds_hist, ds_futu], dim='time').to_netcdf(\n",
    "        f'/glade/scratch/molina/b.e21.U500.{mem}.nc')"
   ]
  },
  {
   "cell_type": "code",
   "execution_count": 6,
   "id": "b7c5ca84-79af-4e05-a6d1-b66d53668c68",
   "metadata": {},
   "outputs": [],
   "source": [
    "for mem in member_list:\n",
    "\n",
    "    ds_hist = xr.open_mfdataset(sorted(glob.glob(\n",
    "        f'/glade/campaign/cgd/cesm/CESM2-LE/atm/proc/tseries/day_1/V500/{historical}{mem}.*.nc')))['V500']\n",
    "\n",
    "    ds_futu = xr.open_mfdataset(sorted(glob.glob(\n",
    "        f'/glade/campaign/cgd/cesm/CESM2-LE/atm/proc/tseries/day_1/V500/{future}{mem}.*.nc')))['V500']\n",
    "\n",
    "    ds_hist = ds_hist.resample(time='MS').mean(skipna=True).isel(time=slice(0, -1))\n",
    "    ds_futu = ds_futu.resample(time='MS').mean(skipna=True)\n",
    "\n",
    "    xr.concat([ds_hist, ds_futu], dim='time').to_netcdf(\n",
    "        f'/glade/scratch/molina/b.e21.V500.{mem}.nc')"
   ]
  },
  {
   "cell_type": "code",
   "execution_count": null,
   "id": "074f370f-e208-4ea5-ac7b-6edae177462a",
   "metadata": {},
   "outputs": [],
   "source": []
  }
 ],
 "metadata": {
  "kernelspec": {
   "display_name": "Python [conda env:miniconda3-myenv-tfgpu]",
   "language": "python",
   "name": "conda-env-miniconda3-myenv-tfgpu-py"
  },
  "language_info": {
   "codemirror_mode": {
    "name": "ipython",
    "version": 3
   },
   "file_extension": ".py",
   "mimetype": "text/x-python",
   "name": "python",
   "nbconvert_exporter": "python",
   "pygments_lexer": "ipython3",
   "version": "3.8.10"
  }
 },
 "nbformat": 4,
 "nbformat_minor": 5
}
