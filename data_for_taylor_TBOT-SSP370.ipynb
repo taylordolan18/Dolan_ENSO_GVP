{
 "cells": [
  {
   "cell_type": "markdown",
   "id": "3ac9e2a7-ae61-410c-bcc0-443fa2b59985",
   "metadata": {},
   "source": [
    "### data preprocessing (CESM SSP370 TBOT)\n",
    "\n",
    "Notebook by Maria J. Molina (NCAR) and Taylor Dolan (UND/ASP)\n",
    "\n",
    "Notebook extracts the bottom temperature CESM2 model level (for data size reduction)."
   ]
  },
  {
   "cell_type": "code",
   "execution_count": 2,
   "id": "daad9d71-8e83-4ae1-b4bc-09cb8b2e1653",
   "metadata": {},
   "outputs": [],
   "source": [
    "import glob\n",
    "import xarray as xr"
   ]
  },
  {
   "cell_type": "code",
   "execution_count": 7,
   "id": "e05c3e47-c03e-4a39-af21-0606b9ab7f39",
   "metadata": {},
   "outputs": [],
   "source": [
    "file_list = sorted(glob.glob(\n",
    "    '/glade/campaign/cgd/cesm/CESM2-LE/atm/proc/tseries/hour_6/T/*BSSP370*nc'))"
   ]
  },
  {
   "cell_type": "code",
   "execution_count": null,
   "id": "25ef9ec1-53d1-479f-b869-afcb3d426a99",
   "metadata": {},
   "outputs": [],
   "source": [
    "for fi in file_list:\n",
    "    ds = xr.open_dataset(fi)\n",
    "    ds['T'].isel(lev=-1).to_netcdf(\n",
    "        f\"/glade/scratch/molina/data_for_taylor/{fi.split('T')[1]+'TBOT.'+fi.split('.T.')[-1]}\")"
   ]
  },
  {
   "cell_type": "code",
   "execution_count": null,
   "id": "2a0d4e59-f9d9-4efc-a938-6bbc68015633",
   "metadata": {},
   "outputs": [],
   "source": []
  }
 ],
 "metadata": {
  "kernelspec": {
   "display_name": "Python [conda env:miniconda3-myenv-tfgpu]",
   "language": "python",
   "name": "conda-env-miniconda3-myenv-tfgpu-py"
  },
  "language_info": {
   "codemirror_mode": {
    "name": "ipython",
    "version": 3
   },
   "file_extension": ".py",
   "mimetype": "text/x-python",
   "name": "python",
   "nbconvert_exporter": "python",
   "pygments_lexer": "ipython3",
   "version": "3.8.10"
  }
 },
 "nbformat": 4,
 "nbformat_minor": 5
}
