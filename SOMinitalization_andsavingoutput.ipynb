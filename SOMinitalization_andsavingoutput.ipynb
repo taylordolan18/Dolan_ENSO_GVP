{
 "cells": [
  {
   "cell_type": "code",
   "execution_count": null,
   "id": "06129ae3-876a-4c64-9140-cca7296c9a14",
   "metadata": {},
   "outputs": [],
   "source": [
    "#Here is where you are running the SOM code. THIS CODE TAKES A WHILE DO NOT FREAK OUT (~15 min)!!!\n",
    "\n",
    "from minisom import MiniSom\n",
    "from pylab import plot, axis, show, pcolor, colorbar, bone\n",
    "\n",
    "# define SOM:\n",
    "alljansommslp = MiniSom(x = 4, y = 5, input_len=17748, sigma=3, learning_rate=0.05,\n",
    "                 neighborhood_function='gaussian',\n",
    "                 activation_distance='euclidean')\n",
    "#The x and y you cna pick depending on the SOM you want to make (a 4x5 SOM results in 20 nodes)\n",
    "#The input length is the number of columns you have. To find this you can say alldata.shape and it will be the second value in the ().\n",
    "#Sigma and Learning rate are based off of Aaron's paper.\n",
    "\n",
    "\n",
    "# Initializing the weights\n",
    "alljansommslp.random_weights_init(alldata)   #you are generating the weights randomly first with the data array you made in the previous code block\n",
    "\n",
    "# Training\n",
    "\n",
    "alljansommslp.train_random(alldata, 961) # the 961 is a value I selected it represents the amount of iterations that occur. If you pick a number too high the code will take forever and break.\n",
    "#it is key here that you use thedata arrya you made in the previous code block for all training.\n",
    "\n",
    "alljansom_p22mslp = MiniSom(x = 4, y = 5, input_len=17748, sigma=1, learning_rate=0.01,\n",
    "                 neighborhood_function='gaussian',\n",
    "                 activation_distance='euclidean')\n",
    "#I do the SOM intialization in two steps meaning I do this process twice! You will keep the intial conditions the SAME\n",
    "alljansom_p22mslp._weights = alljansommslp._weights  #this is key... for the weights you will assign the first SOM runs weights to be the weights used in the second run\n",
    "alljansom_p22mslp.train_random(alldata, 96100)   # whatever the iteration amount you chose multiple by 100 and use that value here (961*100=96100)\n",
    "\n",
    "alljansommslp = alljansom_p22mslp._weights  #assign the weights to a variable."
   ]
  },
  {
   "cell_type": "code",
   "execution_count": null,
   "id": "a3059f1c-fa6a-416e-9907-468c90511dc4",
   "metadata": {},
   "outputs": [],
   "source": [
    "with open('alljansom_p22mslp.p', 'wb') as outfile:   #you are saving the SECOND SOM run data NOT the first!!!!\n",
    "    pickle.dump(alljansom_p22mslp, outfile)\n",
    "#here I am saving the output from the SOM to use in graphing at a later point. \n",
    "#a file will be made during this step!"
   ]
  }
 ],
 "metadata": {
  "kernelspec": {
   "display_name": "Python 3",
   "language": "python",
   "name": "python3"
  },
  "language_info": {
   "codemirror_mode": {
    "name": "ipython",
    "version": 3
   },
   "file_extension": ".py",
   "mimetype": "text/x-python",
   "name": "python",
   "nbconvert_exporter": "python",
   "pygments_lexer": "ipython3",
   "version": "3.8.8"
  }
 },
 "nbformat": 4,
 "nbformat_minor": 5
}
