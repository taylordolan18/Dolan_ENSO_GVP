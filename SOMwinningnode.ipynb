{
 "cells": [
  {
   "cell_type": "code",
   "execution_count": null,
   "id": "f53556c9-291c-47f0-8ab2-0427343ba44b",
   "metadata": {},
   "outputs": [],
   "source": [
    "#this code block is used to determine each hour winning node. So remember I have Jan. data which has 31 days and 24 hours in a day so a total of 744 hours. It picks the winning node for each hour of the month \n",
    "with open (\"Januaryallhourswinningnode.txt\", 'a+') as f:\n",
    "    for i in range(nday):\n",
    "        w = alljansommslp.winner(alldata[i,:]) \n",
    "        node=(w[1]+1)+w[0]*alljanmslp.shape[0]\n",
    "        winner = (i, node)\n",
    "        print(i,node)\n",
    "        f.write(str(winner) + '\\n')\n",
    "#this code also saves the output as a text file so you can make a time series of it at a later point. "
   ]
  }
 ],
 "metadata": {
  "kernelspec": {
   "display_name": "Python 3",
   "language": "python",
   "name": "python3"
  },
  "language_info": {
   "codemirror_mode": {
    "name": "ipython",
    "version": 3
   },
   "file_extension": ".py",
   "mimetype": "text/x-python",
   "name": "python",
   "nbconvert_exporter": "python",
   "pygments_lexer": "ipython3",
   "version": "3.8.8"
  }
 },
 "nbformat": 4,
 "nbformat_minor": 5
}
